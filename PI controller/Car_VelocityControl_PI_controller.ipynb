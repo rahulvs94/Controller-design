{
 "cells": [
  {
   "cell_type": "code",
   "execution_count": 22,
   "metadata": {
    "collapsed": true
   },
   "outputs": [],
   "source": [
    "import numpy as np\n",
    "import matplotlib.pyplot as plt\n",
    "from scipy.integrate import odeint"
   ]
  },
  {
   "cell_type": "code",
   "execution_count": 23,
   "metadata": {
    "collapsed": true
   },
   "outputs": [],
   "source": [
    "# define model\n",
    "def vehicle(v,t,u,load):\n",
    "    # inputs\n",
    "    #  v    = vehicle velocity (m/s)\n",
    "    #  t    = time (sec)\n",
    "    #  u    = gas pedal position (-50% to 100%)\n",
    "    #  load = passenger load + cargo (kg)\n",
    "    Cd = 0.24    # drag coefficient\n",
    "    rho = 1.225  # air density (kg/m^3)\n",
    "    A = 5.0      # cross-sectional area (m^2)\n",
    "    Fp = 30      # thrust parameter (N/%pedal)\n",
    "    m = 500      # vehicle mass (kg)\n",
    "    # calculate derivative of the velocity\n",
    "    dv_dt = (1.0/(m+load)) * (Fp*u - 0.5*rho*Cd*A*v**2)\n",
    "    return dv_dt"
   ]
  },
  {
   "cell_type": "code",
   "execution_count": 30,
   "metadata": {
    "collapsed": true
   },
   "outputs": [],
   "source": [
    "tf = 300.0                 # final time for simulation\n",
    "nsteps = 301               # number of time steps\n",
    "delta_t = tf/(nsteps-1)   # how long is each time step?\n",
    "ts = np.linspace(0,tf,nsteps) # linearly spaced time vector\n",
    "\n",
    "# simulate step test operation\n",
    "step = np.zeros(nsteps) # u = valve % open\n",
    "step[11:] = 20.0       # step up pedal position\n",
    "# passenger(s) + cargo load\n",
    "load = 200.0 # kg\n",
    "# velocity initial condition\n",
    "v0 = 0.0\n",
    "# for storing the results\n",
    "vs = np.zeros(nsteps)\n",
    "\n",
    "ubias = 0.0\n",
    "Kc = 1.0/1.2*5.0\n",
    "tauI = 30.0\n",
    "sum_int = 0.0\n",
    "es = np.zeros(nsteps)\n",
    "ies = np.zeros(nsteps)\n",
    "sp_stores = np.zeros(nsteps)\n",
    "\n",
    "sp = 25.0"
   ]
  },
  {
   "cell_type": "code",
   "execution_count": 31,
   "metadata": {
    "collapsed": true
   },
   "outputs": [],
   "source": [
    "# simulate with ODEINT\n",
    "# model doesn't depend on time hence no [ts[i],ts[i+1]] in odeint\n",
    "for i in range(nsteps-1):\n",
    "    # changes in set point\n",
    "    if i == 50:\n",
    "        sp = 0.0\n",
    "    if i == 100:\n",
    "        sp = 15.0\n",
    "    if i == 150:\n",
    "        sp = 20.0\n",
    "    if i == 200:\n",
    "        sp = 10.0\n",
    "        \n",
    "    sp_stores[i+1] = sp\n",
    "    error = sp - v0\n",
    "    es[i+1] = error\n",
    "    sum_int = sum_int + error*delta_t\n",
    "    u = ubias + Kc*error + Kc/tauI*sum_int\n",
    "    \n",
    "    # clip inputs to -50% to 100%\n",
    "    if u >= 100.0:\n",
    "        u = 100.0\n",
    "        # Anti-reset wind-up for integral part\n",
    "        sum_int = sum_int - error*delta_t\n",
    "    if u <= -50.0:\n",
    "        u = -50.0\n",
    "        # Anti-reset wind-up for integral part\n",
    "        sum_int = sum_int - error*delta_t\n",
    "    step[i+1] = u\n",
    "    v = odeint(vehicle,v0,[0,delta_t],args=(u,load))\n",
    "    v0 = v[-1]   # take the last value\n",
    "    vs[i+1] = v0 # store the velocity for plotting"
   ]
  },
  {
   "cell_type": "code",
   "execution_count": 32,
   "metadata": {},
   "outputs": [
    {
     "data": {
      "image/png": "[encoded data removed]",
      "text/plain": [
       "<Figure size 432x288 with 4 Axes>"
      ]
     },
     "metadata": {},
     "output_type": "display_data"
    }
   ],
   "source": [
    "# plot results\n",
    "plt.figure()\n",
    "plt.subplot(2,2,1)\n",
    "plt.plot(ts,vs,'b-',linewidth=3)\n",
    "plt.plot(ts,sp_stores,'k--',linewidth=2)\n",
    "plt.ylabel('Velocity (m/s)')\n",
    "plt.legend(['Velocity','Set Point'],loc='best')\n",
    "plt.subplot(2,2,2)\n",
    "plt.plot(ts,step,'r--',linewidth=3)\n",
    "plt.ylabel('Gas Pedal')    \n",
    "plt.legend(['Gas Pedal (%)'])\n",
    "plt.subplot(2,2,3)\n",
    "plt.plot(ts,es,'b-',linewidth=3)\n",
    "plt.xlabel('Time (sec)')\n",
    "plt.legend(['Error (SP-PV)'])\n",
    "plt.subplot(2,2,4)\n",
    "plt.plot(ts,ies,'k--',linewidth=3)\n",
    "plt.xlabel('Time (sec)')\n",
    "plt.legend(['Integral of Error'])\n",
    "plt.show()"
   ]
  },
  {
   "cell_type": "code",
   "execution_count": null,
   "metadata": {
    "collapsed": true
   },
   "outputs": [],
   "source": []
  }
 ],
 "metadata": {
  "kernelspec": {
   "display_name": "Python 3",
   "language": "python",
   "name": "python3"
  },
  "language_info": {
   "codemirror_mode": {
    "name": "ipython",
    "version": 3
   },
   "file_extension": ".py",
   "mimetype": "text/x-python",
   "name": "python",
   "nbconvert_exporter": "python",
   "pygments_lexer": "ipython3",
   "version": "3.6.3"
  }
 },
 "nbformat": 4,
 "nbformat_minor": 2
}
