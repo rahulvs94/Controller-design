{
 "cells": [
  {
   "cell_type": "code",
   "execution_count": 15,
   "metadata": {
    "collapsed": true
   },
   "outputs": [],
   "source": [
    "import numpy as np\n",
    "%matplotlib inline\n",
    "import matplotlib.pyplot as plt\n",
    "from scipy.integrate import odeint\n",
    "import ipywidgets as wg"
   ]
  },
  {
   "cell_type": "code",
   "execution_count": 16,
   "metadata": {
    "collapsed": true
   },
   "outputs": [],
   "source": [
    "# define mixing model\n",
    "def mixer(x,t,Tf,Caf):\n",
    "    # Inputs (2):\n",
    "    # Tf = Feed Temperature (K)\n",
    "    # Caf = Feed Concentration (mol/m^3)\n",
    "    # States (2):\n",
    "    # Concentration of A (mol/m^3)\n",
    "    Ca = x[0]\n",
    "    # Parameters:\n",
    "    # Volumetric Flowrate (m^3/hr)\n",
    "    q = 100\n",
    "    # Volume of CSTR (m^3)\n",
    "    V = 100\n",
    "    # Calculate concentration derivative\n",
    "    dCadt = q/V*(Caf - Ca)\n",
    "    return dCadt"
   ]
  },
  {
   "cell_type": "code",
   "execution_count": 17,
   "metadata": {
    "collapsed": true
   },
   "outputs": [],
   "source": [
    "# Simulate mixer\n",
    "def PID(Kc,tauI,tauD):\n",
    "    \n",
    "    # Initial Condition\n",
    "    Ca0 = 0.0\n",
    "    # Feed Temperature (K)\n",
    "    Tf = 300 \n",
    "    # Time Interval (min)\n",
    "    t = np.linspace(0,10,100)\n",
    "\n",
    "    # Feed Concentration (mol/m^3)\n",
    "    Caf = np.zeros(len(t))\n",
    "\n",
    "    # Storage for plotting\n",
    "    Ca = np.zeros(len(t))\n",
    "    Ca[0] = Ca0\n",
    "    e = np.zeros(len(t))\n",
    "    \n",
    "    # PID controller \n",
    "    SP = np.ones(len(t))*1.5\n",
    "    SP[50:] = 1.0\n",
    "    Kp = 0.0\n",
    "    Kd = 0.0\n",
    "    \n",
    "    for i in range(len(t)-1):\n",
    "        e[i] = SP[i] - Ca0\n",
    "        if i>=1:\n",
    "            Kd = (Ca[i]-Ca[i-1])/(t[i+1]-t[i])\n",
    "        Kp = Kp + e[i]*(t[i+1]-t[i])\n",
    "        Caf[i] = Caf[0] + (Kc*e[i]) + (Kc/tauI*Kp) - (Kc*tauD*Kd)\n",
    "        y = odeint(mixer,Ca0,[t[i],t[i+1]],args=(Tf,Caf[i]))\n",
    "        Ca0 = y[1]\n",
    "        Ca[i+1] = Ca0\n",
    "        \n",
    "    # Plot the results\n",
    "    plt.plot(t,Ca,'r-',linewidth=3,label='Concentration')\n",
    "    plt.plot(t,e,'g--',linewidth=3,label='Error')\n",
    "    plt.plot(t,SP,'k--',linewidth=1,label='Set Point')\n",
    "    plt.plot(t,Caf,'b:',linewidth=3,label='Inlet Concentration')\n",
    "    plt.ylabel('Ca (mol/L)')\n",
    "    plt.legend(loc='best')\n",
    "    plt.xlabel('Time (hr)')\n",
    "    plt.show()    \n"
   ]
  },
  {
   "cell_type": "code",
   "execution_count": 18,
   "metadata": {},
   "outputs": [
    {
     "data": {
      "application/vnd.jupyter.widget-view+json": {
       "model_id": "4fbce265ce674e6882c6eebcd1251f71",
       "version_major": 2,
       "version_minor": 0
      },
      "text/plain": [
       "A Jupyter Widget"
      ]
     },
     "metadata": {},
     "output_type": "display_data"
    },
    {
     "data": {
      "text/plain": [
       "<function __main__.PID(Kc, tauI, tauD)>"
      ]
     },
     "execution_count": 18,
     "metadata": {},
     "output_type": "execute_result"
    }
   ],
   "source": [
    "# Interactive interface to control gains\n",
    "Kc_slide = wg.FloatSlider(value=3.5,min=-0.2,max=4.0,step=0.05)\n",
    "tauI_slide = wg.FloatSlider(value=0.8,min=-0.2,max=1.5,step=0.05)\n",
    "tauD_slide = wg.FloatSlider(value=0.1,min=-0.2,max=1.5,step=0.05)\n",
    "wg.interact(PID, Kc=Kc_slide, tauI=tauI_slide, tauD=tauD_slide)"
   ]
  },
  {
   "cell_type": "code",
   "execution_count": null,
   "metadata": {
    "collapsed": true
   },
   "outputs": [],
   "source": []
  }
 ],
 "metadata": {
  "kernelspec": {
   "display_name": "Python 3",
   "language": "python",
   "name": "python3"
  },
  "language_info": {
   "codemirror_mode": {
    "name": "ipython",
    "version": 3
   },
   "file_extension": ".py",
   "mimetype": "text/x-python",
   "name": "python",
   "nbconvert_exporter": "python",
   "pygments_lexer": "ipython3",
   "version": "3.6.3"
  }
 },
 "nbformat": 4,
 "nbformat_minor": 2
}
