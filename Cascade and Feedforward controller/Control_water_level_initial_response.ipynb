{
 "cells": [
  {
   "cell_type": "code",
   "execution_count": 6,
   "metadata": {
    "collapsed": true
   },
   "outputs": [],
   "source": [
    "import numpy as np\n",
    "%matplotlib inline\n",
    "import matplotlib.pyplot as plt\n",
    "from scipy.integrate import odeint\n",
    "import random"
   ]
  },
  {
   "cell_type": "code",
   "execution_count": 7,
   "metadata": {
    "collapsed": true
   },
   "outputs": [],
   "source": [
    "# define tank model\n",
    "def tank(Level,time,valve,DeltaP,FlowOut):\n",
    "    Cv = 0.0001     # valve size\n",
    "    rho = 1000.0 # water density (kg/m^3)\n",
    "    A = 0.5      # tank area (m^2)\n",
    "    gs = 1.0     # specific gravity\n",
    "    # inlet mass flow\n",
    "    FlowIn = rho * Cv * valve * np.sqrt(DeltaP/gs)\n",
    "    # leak outlet flow\n",
    "    LeakOut = 5.0*Level\n",
    "    # calculate derivative of the Level\n",
    "    if Level <= 0.0:\n",
    "        dLevel_dt = 0.0 # for drained tank\n",
    "    else:\n",
    "        dLevel_dt = (FlowIn-FlowOut-LeakOut)/(rho*A)\n",
    "    return dLevel_dt"
   ]
  },
  {
   "cell_type": "code",
   "execution_count": 8,
   "metadata": {
    "collapsed": true
   },
   "outputs": [],
   "source": [
    "tf = 3000.0           # final time\n",
    "n = int(tf + 1) # number of time points\n",
    "\n",
    "# time span for the simulation, cycle every 0.1 sec\n",
    "ts = np.linspace(0,tf,n)\n",
    "delta_t = ts[1] - ts[0]\n",
    "\n",
    "# disturbances\n",
    "DP = np.ones(n)*12.0\n",
    "Fout = np.ones(n)*2.0\n",
    "Fin = np.zeros(n)\n",
    "\n",
    "# Desired level (set point)\n",
    "SP = 1.0\n",
    "# level initial condition\n",
    "Level0 = SP\n",
    "\n",
    "# initial valve position\n",
    "valve = 20.0\n",
    "# Controller bias\n",
    "ubias = valve\n",
    "# valve opening (0-100%)\n",
    "u = np.ones(n) * valve\n",
    "\n",
    "# for storing the results\n",
    "z = np.ones(n)*Level0\n",
    "\n",
    "Cv = 0.0001     # valve size\n",
    "rho = 1000.0 # water density (kg/m^3)\n",
    "A = 0.5      # tank area (m^2)\n",
    "gs = 1.0     # specific gravity"
   ]
  },
  {
   "cell_type": "markdown",
   "metadata": {},
   "source": [
    "**Case A (Feedforward Control)**: Install flow transmitter on inlet flow line and use as a feedforward to the level controller.\n",
    "\n",
    "**Case B (Cascade Control)**: Install flow transmitter on inlet flow line and develop flow controller as an inner loop to the level controller.\n",
    "\n",
    "**Case C (Feedforward Control)**: Install flow transmitter on outlet flow line and use as a feedforward to the level controller."
   ]
  },
  {
   "cell_type": "code",
   "execution_count": 9,
   "metadata": {
    "collapsed": true
   },
   "outputs": [],
   "source": [
    "# Step Response (uncomment select case)\n",
    "# Case A\n",
    "DP[1000:] = 22.0\n",
    "# Case B\n",
    "#u[1000:] = 30.0 \n",
    "# Case C\n",
    "#Fout[1000:] = 3.0"
   ]
  },
  {
   "cell_type": "code",
   "execution_count": 10,
   "metadata": {
    "collapsed": true
   },
   "outputs": [],
   "source": [
    "# simulate with ODEINT\n",
    "for i in range(n-1):\n",
    "    valve = u[i]\n",
    "\n",
    "    # inlet mass flow\n",
    "    Fin[i] = rho * Cv * valve * np.sqrt(DP[i]/gs)\n",
    "\n",
    "    #if i==500:\n",
    "    #    valve = 30.0\n",
    "    #u[i+1] = valve   # store the valve position\n",
    "    y = odeint(tank,Level0,[0,0.1],args=(valve,DP[i],Fout[i]))\n",
    "    Level0 = y[-1] # take the last point\n",
    "    z[i+1] = Level0 # store the level for plotting\n",
    "Fin[-1] = Fin[-2]"
   ]
  },
  {
   "cell_type": "code",
   "execution_count": 11,
   "metadata": {},
   "outputs": [
    {
     "data": {
      "image/png": "[encoded data removed]",
      "text/plain": [
       "<Figure size 432x288 with 4 Axes>"
      ]
     },
     "metadata": {},
     "output_type": "display_data"
    }
   ],
   "source": [
    "# plot results\n",
    "plt.figure()\n",
    "plt.subplot(4,1,1)\n",
    "plt.plot(ts,z,'b-',linewidth=3,label='level')\n",
    "plt.ylabel('Tank Level')\n",
    "plt.legend(loc='best')\n",
    "plt.subplot(4,1,2)\n",
    "plt.plot(ts,u,'r--',linewidth=3,label='valve')\n",
    "plt.ylabel('Valve')    \n",
    "plt.legend(loc=1)\n",
    "plt.subplot(4,1,3)\n",
    "plt.plot(ts,Fout,'b--',linewidth=3,label='Outlet Flow (kg/sec)')\n",
    "plt.plot(ts,DP,'r:',linewidth=3,label='Inlet Pressure (bar)')\n",
    "plt.ylabel('Disturbances')    \n",
    "plt.legend(loc=1)\n",
    "plt.subplot(4,1,4)\n",
    "plt.plot(ts,Fin,'k:',linewidth=3,label='Inlet Flow (kg/sec)')\n",
    "plt.xlabel('Time (sec)')\n",
    "plt.legend(loc=1)\n",
    "\n",
    "plt.show()"
   ]
  },
  {
   "cell_type": "markdown",
   "metadata": {},
   "source": [
    "Using above plots, we can find required feedforward gain value to feedforward controller at the inlet."
   ]
  },
  {
   "cell_type": "code",
   "execution_count": null,
   "metadata": {
    "collapsed": true
   },
   "outputs": [],
   "source": []
  }
 ],
 "metadata": {
  "kernelspec": {
   "display_name": "Python 3",
   "language": "python",
   "name": "python3"
  },
  "language_info": {
   "codemirror_mode": {
    "name": "ipython",
    "version": 3
   },
   "file_extension": ".py",
   "mimetype": "text/x-python",
   "name": "python",
   "nbconvert_exporter": "python",
   "pygments_lexer": "ipython3",
   "version": "3.6.3"
  }
 },
 "nbformat": 4,
 "nbformat_minor": 2
}
