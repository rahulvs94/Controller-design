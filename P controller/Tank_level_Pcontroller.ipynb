{
 "cells": [
  {
   "cell_type": "code",
   "execution_count": 52,
   "metadata": {},
   "outputs": [],
   "source": [
    "import numpy as np\n",
    "import matplotlib.pyplot as plt\n",
    "from scipy.integrate import odeint"
   ]
  },
  {
   "cell_type": "code",
   "execution_count": 78,
   "metadata": {
    "collapsed": true
   },
   "outputs": [],
   "source": [
    "# define tank model\n",
    "def tank(Level,time,c,valve):\n",
    "    rho = 1000.0 # water density (kg/m^3)\n",
    "    A = 1.0      # tank area (m^2)\n",
    "    # calculate derivative of the Level\n",
    "    dLevel_dt = (c/(rho*A)) * valve\n",
    "    return dLevel_dt"
   ]
  },
  {
   "cell_type": "code",
   "execution_count": 91,
   "metadata": {},
   "outputs": [],
   "source": [
    "# time span for the simulation for 10 sec, every 0.1 sec\n",
    "ts = np.linspace(0,10,101)\n",
    "\n",
    "# valve operation\n",
    "c = 50.0          # valve coefficient (kg/s / %open)\n",
    "u = np.zeros(len(ts)) # u = valve % open\n",
    "\n",
    "# level initial condition\n",
    "Level0 = 0.0\n",
    "\n",
    "# initial valve position\n",
    "valve = 0.0\n",
    "\n",
    "# for storing the results\n",
    "z = np.zeros(len(ts))\n",
    "es = np.zeros(len(ts))\n",
    "\n",
    "# what is the value for ubias?\n",
    "ubias = 0.0\n",
    "\n",
    "# decide on a tuning value for Kc\n",
    "Kc = 20.0\n",
    "\n",
    "# record the desired level (set point)\n",
    "SP = 10*np.ones(len(ts))\n",
    "\n"
   ]
  },
  {
   "cell_type": "code",
   "execution_count": 92,
   "metadata": {},
   "outputs": [],
   "source": [
    "# simulate with ODEINT\n",
    "for i in range(len(ts)-1):\n",
    "    # calculate the error\n",
    "    error = SP[i] - Level0\n",
    "\n",
    "    # P-only controller here\n",
    "    valve = ubias + Kc*error\n",
    "\n",
    "    # clipping the output to reduce valve open percentage (keep within 100%) \n",
    "    valve = min(100.0,max(0.0,valve))\n",
    "    \n",
    "    u[i+1] = valve   # store the valve position\n",
    "    es[i+1] = error  # store the error \n",
    "    y = odeint(tank,Level0,[ts[i],ts[i+1]],args=(c,valve))\n",
    "    Level0 = y[-1] # take the last point\n",
    "    z[i+1] = Level0 # store the level for plotting"
   ]
  },
  {
   "cell_type": "code",
   "execution_count": 93,
   "metadata": {},
   "outputs": [
    {
     "data": {
      "image/png": "[encoded data removed]",
      "text/plain": [
       "<Figure size 432x288 with 3 Axes>"
      ]
     },
     "metadata": {},
     "output_type": "display_data"
    }
   ],
   "source": [
    "# plot results\n",
    "plt.figure()\n",
    "plt.subplot(3,1,1)\n",
    "plt.plot(ts,z,'b--',linewidth=3,label='level')\n",
    "plt.plot(ts,SP,'k--',linewidth=3,label='level set-point')\n",
    "plt.ylabel('Tank Level')\n",
    "plt.legend(loc='best')\n",
    "\n",
    "plt.subplot(3,1,2)\n",
    "plt.plot(ts,u,'r--',linewidth=3,label='valve')\n",
    "plt.ylabel('Valve')    \n",
    "plt.legend(loc='best')\n",
    "\n",
    "plt.subplot(3,1,3)\n",
    "plt.plot(ts,es,'k--',linewidth=3,label='error')\n",
    "plt.ylabel('Error = SP-PV')    \n",
    "plt.xlabel('Time (sec)')\n",
    "plt.legend(loc='best')\n",
    "plt.show()"
   ]
  }
 ],
 "metadata": {
  "kernelspec": {
   "display_name": "Python 3",
   "language": "python",
   "name": "python3"
  },
  "language_info": {
   "codemirror_mode": {
    "name": "ipython",
    "version": 3
   },
   "file_extension": ".py",
   "mimetype": "text/x-python",
   "name": "python",
   "nbconvert_exporter": "python",
   "pygments_lexer": "ipython3",
   "version": "3.6.3"
  }
 },
 "nbformat": 4,
 "nbformat_minor": 2
}
